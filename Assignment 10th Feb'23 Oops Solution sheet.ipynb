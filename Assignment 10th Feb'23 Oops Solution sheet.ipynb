{
 "cells": [
  {
   "cell_type": "markdown",
   "id": "4759ea47-9a13-4216-abd8-a55c0d236285",
   "metadata": {},
   "source": [
    "Q1. Which function is used to open a file? What are the different modes of opening a file? Explain each mode of file opening."
   ]
  },
  {
   "cell_type": "markdown",
   "id": "8146672c-90be-46c9-8572-20a80d1356d6",
   "metadata": {},
   "source": [
    "Answer 1. The built-in function used to open a file is open().\n",
    "The syntax for opening a file using open() function is:\n",
    "\n",
    "file_object = open(filename, mode)\n",
    "\n",
    "In the above syntax filename is the file to be opened, and mode specifies the purpose of opening the file.\n",
    "\n",
    "\n",
    "There are different modes available for opening a file, as listed below:\n",
    "\n",
    "1. \"r\" (read mode): This mode is used to read data from a file. If the file does not exist, it will raise a FileNotFoundError exception.\n",
    "\n",
    "2. \"w\" (write mode): This mode is used to write data to a file. If the file already exists, it will truncate the existing content of the file. If the file does not exist, it will create a new file.\n",
    "\n",
    "3. \"a\" (append mode): This mode is used to add data to the end of an existing file. If the file does not exist, it will create a new file.\n",
    "\n",
    "5. \"x\" (exclusive creation mode): This mode is used to create a new file, but it will raise a FileExistsError exception if the file already exists.\n",
    "\n",
    "6. \"b\" (binary mode): This mode is used to read or write binary data, such as images or audio files.\n",
    "\n",
    "7. \"t\" (text mode): This mode is used to read or write text data.\n",
    "\n",
    "8. \"+\" (update mode): This mode is used to perform both read and write operations on a file.\n",
    "\n",
    "\n",
    "For example, to open a file named \"test.txt\" in read mode, you can use the following code:\n",
    "\n",
    "file_object = open(\"test.txt\", \"r\")"
   ]
  },
  {
   "cell_type": "markdown",
   "id": "d6f109dc-b3e0-4bdb-907d-fcb60b2fc232",
   "metadata": {},
   "source": [
    "Q2. Why close() function is used? Why is it important to close a file?"
   ]
  },
  {
   "cell_type": "markdown",
   "id": "22d89b75-34e7-4c91-9f98-fecf92a49caa",
   "metadata": {},
   "source": [
    "Answer 2. The close() function is used to close a file that was previously opened using the open() function.\n",
    "\n",
    "It is important to close a file after you have finished working with it because it ensures that any data that was buffered (held in memory) by the program while it was working with the file is written to the file and any system resources used to hold the file open are freed up.\n",
    "\n",
    "If the file does not close properly, the data written to the file may not be saved, or the file may become corrupted. Additionally, if too many files are opened without being properly closed, it can cause resource leaks and slow down the performance of program or even cause it to crash."
   ]
  },
  {
   "cell_type": "markdown",
   "id": "07d9b7ba-c63e-4a6e-997b-02041e6e7a9f",
   "metadata": {},
   "source": [
    "Q3. Write a python program to create a text file. Write ‘I want to become a Data Scientist’ in that file. Then close the file. Open this file and read the content of the file."
   ]
  },
  {
   "cell_type": "code",
   "execution_count": 1,
   "id": "5c62dc40-ad74-4c78-8595-610ab3ad7ec3",
   "metadata": {},
   "outputs": [],
   "source": [
    "file = open(\"test.txt\", \"w\")"
   ]
  },
  {
   "cell_type": "code",
   "execution_count": 2,
   "id": "4b4cca4b-b26d-4a16-8b01-4769cc9c258e",
   "metadata": {},
   "outputs": [
    {
     "data": {
      "text/plain": [
       "33"
      ]
     },
     "execution_count": 2,
     "metadata": {},
     "output_type": "execute_result"
    }
   ],
   "source": [
    "file.write(\"I want to become a Data Scientist\")"
   ]
  },
  {
   "cell_type": "code",
   "execution_count": 3,
   "id": "6fe869d1-bc4f-4b88-9772-93026ae60b6c",
   "metadata": {},
   "outputs": [],
   "source": [
    "file.close()"
   ]
  },
  {
   "cell_type": "code",
   "execution_count": 4,
   "id": "b7c6c873-b7dc-4966-84d8-8b182d3e80ff",
   "metadata": {},
   "outputs": [],
   "source": [
    "file = open(\"test.txt\", \"r\")"
   ]
  },
  {
   "cell_type": "code",
   "execution_count": 5,
   "id": "7adc9541-d233-4ade-8744-ce6f0f481904",
   "metadata": {},
   "outputs": [],
   "source": [
    "test1 = file.read()"
   ]
  },
  {
   "cell_type": "code",
   "execution_count": 6,
   "id": "eb382a13-093b-465d-a10f-b23ad3404a7d",
   "metadata": {},
   "outputs": [
    {
     "data": {
      "text/plain": [
       "'I want to become a Data Scientist'"
      ]
     },
     "execution_count": 6,
     "metadata": {},
     "output_type": "execute_result"
    }
   ],
   "source": [
    "test1"
   ]
  },
  {
   "cell_type": "markdown",
   "id": "e39d1112-bb5d-4d9c-95b0-709f68268bd2",
   "metadata": {},
   "source": [
    "Q4. Explain the following with python code: read(), readline() and readlines()."
   ]
  },
  {
   "cell_type": "markdown",
   "id": "6204133c-6a47-4f93-be63-230c791fd36d",
   "metadata": {},
   "source": [
    "Answer 4. \n",
    "\n",
    "1. read(): The read() method is used to read the entire contents of a file at once. It returns a string containing the entire contents of the file.\n",
    "\n",
    "        # Open the file in read mode\n",
    "        file = open(\"my_file.txt\", \"r\")\n",
    "\n",
    "       # Read the entire contents of the file\n",
    "        file_content = file.read()\n",
    "\n",
    "          # Close the file\n",
    "            file.close()\n",
    "\n",
    "        # Print the contents of the file\n",
    "          print(file_content)\n",
    "\n",
    "\n",
    "\n",
    "2. readline(): The readline() method is used to read a single line from a file at a time. Each time it is called, it returns the next line in the file.\n",
    "\n",
    "\n",
    "\n",
    "\n",
    "       # Open the file in read mode\n",
    "        file = open(\"my_file.txt\", \"r\")\n",
    "\n",
    "        # Read the first line of the file\n",
    "         line = file.readline()\n",
    "\n",
    "       # Keep reading lines until the end of the file is reached\n",
    "         while line != \" \":\n",
    "    \n",
    "          # Print the current line\n",
    "            print(line.strip())\n",
    "    \n",
    "           # Read the next line\n",
    "            line = file.readline\n",
    "    \n",
    "    \n",
    "    \n",
    "3. readlines(): The readlines() method reads the entire file and returns its content as a list of strings, where each string is a line from the file. This method can be useful if you want to process the file line by line and store each line in a list.\n",
    "\n",
    "\n",
    "       # Example code for readlines()\n",
    "\n",
    "    with open(\"example.txt\", \"r\") as file:\n",
    "        file_lines = file.readlines()\n",
    "        for line in file_lines:\n",
    "            print(line)\n",
    "\n",
    "In this example, the open() function is used to open a file named example.txt in read mode (\"r\"). The with statement is used to ensure that the file is properly closed after reading its content. The readlines() method is then called on the file object file, and the returned lines are stored in the file_lines variable as a list. A for loop is then used to iterate over each line in the list, and the current line is printed to the console using the print() function."
   ]
  },
  {
   "cell_type": "markdown",
   "id": "53802603-7ee3-453e-b72e-eb460f9efff8",
   "metadata": {},
   "source": [
    "Q5. Explain why with statement is used with open(). What is the advantage of using with statement and open() together?"
   ]
  },
  {
   "cell_type": "markdown",
   "id": "196e53ff-c9b0-4dc4-85c3-6179e51b4fe7",
   "metadata": {},
   "source": [
    "Answer 5. The with statement is used with open() in Python for file input/output operations. The with statement is a context manager that ensures that the file is properly closed after the block of code is executed, even if an exception is raised.\n",
    "\n",
    "The advantage of using with statement and open() together is that it ensures proper handling of the file, including closing it after the block of code is executed. This is important because if a file is not properly closed, it can lead to problems such as data corruption or loss, or other unexpected errors.\n",
    "\n",
    "By using with statement, you don't need to worry about closing the file explicitly, because the with statement automatically takes care of it for you. This makes your code more concise, more readable, and less prone to errors.\n",
    "\n",
    "\n",
    "          # Example code for using with statement and open()\n",
    "\n",
    "            with open('file.txt', 'r') as file:\n",
    "                 for line in file:\n",
    "                     print(line)\n",
    "In this example, the open() function is used to open a file named file.txt in read mode ('r'). The with statement is used to create a context for the file object file. Inside the with block, a for loop is used to iterate over each line in the file and print it to the console. Once the block of code is executed, the with statement automatically closes the file, even if an exception is raised."
   ]
  },
  {
   "cell_type": "markdown",
   "id": "d27caf34-7338-4ce4-bc9a-f368e22c6bc0",
   "metadata": {},
   "source": [
    "Q6. Explain the write() and writelines() functions. Give a suitable example."
   ]
  },
  {
   "cell_type": "markdown",
   "id": "6e874224-c9fc-4241-badb-27cd02cc359f",
   "metadata": {},
   "source": [
    "Answer 6. write() and writelines() are two methods in Python that are used to write data to a file. Here's an explanation of each method along with an example code snippet:\n",
    "\n",
    "write(): The write() method is used to write a single string to a file. This method can be useful if you want to write data to a file in a single operation."
   ]
  },
  {
   "cell_type": "code",
   "execution_count": 8,
   "id": "76446f8d-9938-4dd3-b112-67bcda869d81",
   "metadata": {},
   "outputs": [],
   "source": [
    "with open(\"test3.txt\", \"w\") as f:\n",
    "    f.write(\"This is an example file.\\n\")\n",
    "    f.write(\"It contains some text.\\n\")\n",
    "    f.write(\"This is the third line.\\n\")"
   ]
  },
  {
   "cell_type": "markdown",
   "id": "12213c09-709f-4233-a383-986e25a9e309",
   "metadata": {},
   "source": [
    "writelines(): The writelines() method is used to write multiple strings to a file, where each string is an element in a list. This method can be useful if you want to write data to a file line by line."
   ]
  },
  {
   "cell_type": "code",
   "execution_count": 10,
   "id": "db63d08a-6eda-4f85-8aa5-c47dd3e159fb",
   "metadata": {},
   "outputs": [],
   "source": [
    "lines = [\"This is line one.\\n\", \"This is line two.\\n\", \"This is line three.\\n\"]"
   ]
  },
  {
   "cell_type": "code",
   "execution_count": 11,
   "id": "3c1dfe96-c49e-402d-86b4-9a58f19bd861",
   "metadata": {},
   "outputs": [],
   "source": [
    "with open(\"test4.txt\", \"w\") as file:\n",
    "    file.writelines(lines)"
   ]
  },
  {
   "cell_type": "code",
   "execution_count": null,
   "id": "2eb52095-d2c3-4584-b840-7ac5acc9aae1",
   "metadata": {},
   "outputs": [],
   "source": []
  }
 ],
 "metadata": {
  "kernelspec": {
   "display_name": "Python 3 (ipykernel)",
   "language": "python",
   "name": "python3"
  },
  "language_info": {
   "codemirror_mode": {
    "name": "ipython",
    "version": 3
   },
   "file_extension": ".py",
   "mimetype": "text/x-python",
   "name": "python",
   "nbconvert_exporter": "python",
   "pygments_lexer": "ipython3",
   "version": "3.10.8"
  }
 },
 "nbformat": 4,
 "nbformat_minor": 5
}
